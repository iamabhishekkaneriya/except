{
 "cells": [
  {
   "cell_type": "code",
   "execution_count": 1,
   "id": "ef5f9ed3-3c59-44da-bf04-dbcf2830cb2e",
   "metadata": {},
   "outputs": [
    {
     "name": "stdout",
     "output_type": "stream",
     "text": [
      "code start\n",
      "an error occurs\n",
      "pwskills\n"
     ]
    }
   ],
   "source": [
    "#Q1. What ia an Exception in python ? Write the difference between EXception and Syntax errors.\n",
    "#Answer.\n",
    "'''Errors and Exceptions in Python. Errors are the problems in a program due to which the program will stop the execution. On the other hand, exceptions are raised when some internal events occur which changes the normal flow of the program.'''\n",
    "# put unsafe operation in try block \n",
    "try: \n",
    "\tprint(\"code start\") \n",
    "\t\t\n",
    "\t# unsafe operation perform \n",
    "\tprint(1 / 0) \n",
    "\n",
    "# if error occur the it goes in except block \n",
    "except: \n",
    "\tprint(\"an error occurs\") \n",
    "\n",
    "# final code in finally block \n",
    "finally: \n",
    "\tprint(\"pwskills\") \n"
   ]
  },
  {
   "cell_type": "code",
   "execution_count": 2,
   "id": "73f54dbd-be10-4e4c-863b-330015c4c38b",
   "metadata": {},
   "outputs": [
    {
     "name": "stdout",
     "output_type": "stream",
     "text": [
      "Sorry! You are dividing by zero\n"
     ]
    }
   ],
   "source": [
    "#Q2. What happens when an exception is not handled? Explain with an example.\n",
    "#Answer.\n",
    "''' it disturbs the regular flow of the program's instructions and outputs a traceback.'''\n",
    "def divide(x, y):\n",
    "      try:\n",
    "             res = x / y\n",
    "             print('Your answer is :', res)\n",
    "      except ZeroDivisionError:\n",
    "             print('Sorry! You are dividing by zero')\n",
    "\n",
    "divide(5, 0)"
   ]
  },
  {
   "cell_type": "code",
   "execution_count": 5,
   "id": "18cb3223-fd7a-488d-8f71-adafc0434ccb",
   "metadata": {},
   "outputs": [
    {
     "data": {
      "text/plain": [
       "'try and except statements are used to catch and handle exceptions in Python.\\nExample of Catching Specific Exception in Python\\nclose() except FileNotFoundError: print(\"File not found.\") \\n'"
      ]
     },
     "execution_count": 5,
     "metadata": {},
     "output_type": "execute_result"
    }
   ],
   "source": [
    "#Q3. which python statements are used to catch and handle exception ? Explain with an example.\n",
    "#Answer.\n",
    "'''try and except statements are used to catch and handle exceptions in Python.\n",
    "Example of Catching Specific Exception in Python\n",
    "close() except FileNotFoundError: print(\"File not found.\") \n",
    "'''\n"
   ]
  },
  {
   "cell_type": "code",
   "execution_count": 8,
   "id": "a55ed5ac-fd7a-4121-9b3d-7f96d722d110",
   "metadata": {},
   "outputs": [
    {
     "name": "stdin",
     "output_type": "stream",
     "text": [
      "Enter a number:  1\n"
     ]
    },
    {
     "name": "stdout",
     "output_type": "stream",
     "text": [
      "Not an even number!\n"
     ]
    }
   ],
   "source": [
    "#Q4. Explain with an example:\n",
    "#Answer.\n",
    "#a try and else.\n",
    "# program to print the reciprocal of even numbers\n",
    "\n",
    "try:\n",
    "    num = int(input(\"Enter a number: \"))\n",
    "    assert num % 2 == 0\n",
    "except:\n",
    "    print(\"Not an even number!\")\n",
    "else:\n",
    "    reciprocal = 1/num\n",
    "    print(reciprocal)\n"
   ]
  },
  {
   "cell_type": "code",
   "execution_count": 9,
   "id": "8c640c46-bbb2-47ba-bd7d-beaf3921bd98",
   "metadata": {},
   "outputs": [
    {
     "name": "stdout",
     "output_type": "stream",
     "text": [
      "Error: Denominator cannot be 0.\n",
      "This is finally block.\n"
     ]
    }
   ],
   "source": [
    "#b finally\n",
    "try:\n",
    "    numerator = 10\n",
    "    denominator = 0\n",
    "\n",
    "    result = numerator/denominator\n",
    "\n",
    "    print(result)\n",
    "except:\n",
    "    print(\"Error: Denominator cannot be 0.\")\n",
    "    \n",
    "finally:\n",
    "    print(\"This is finally block.\")"
   ]
  },
  {
   "cell_type": "code",
   "execution_count": 10,
   "id": "3f7d7022-ebe8-4d04-a05b-11acb7057768",
   "metadata": {},
   "outputs": [
    {
     "ename": "Exception",
     "evalue": "Sorry, no numbers below zero",
     "output_type": "error",
     "traceback": [
      "\u001b[0;31m---------------------------------------------------------------------------\u001b[0m",
      "\u001b[0;31mException\u001b[0m                                 Traceback (most recent call last)",
      "Cell \u001b[0;32mIn[10], line 5\u001b[0m\n\u001b[1;32m      2\u001b[0m x \u001b[38;5;241m=\u001b[39m \u001b[38;5;241m-\u001b[39m\u001b[38;5;241m1\u001b[39m\n\u001b[1;32m      4\u001b[0m \u001b[38;5;28;01mif\u001b[39;00m x \u001b[38;5;241m<\u001b[39m \u001b[38;5;241m0\u001b[39m:\n\u001b[0;32m----> 5\u001b[0m   \u001b[38;5;28;01mraise\u001b[39;00m \u001b[38;5;167;01mException\u001b[39;00m(\u001b[38;5;124m\"\u001b[39m\u001b[38;5;124mSorry, no numbers below zero\u001b[39m\u001b[38;5;124m\"\u001b[39m)\n",
      "\u001b[0;31mException\u001b[0m: Sorry, no numbers below zero"
     ]
    }
   ],
   "source": [
    "#c raise\n",
    "x = -1\n",
    "\n",
    "if x < 0:\n",
    "  raise Exception(\"Sorry, no numbers below zero\")"
   ]
  },
  {
   "cell_type": "code",
   "execution_count": 13,
   "id": "3184c46a-2545-47e1-97fc-762ea1efea5c",
   "metadata": {},
   "outputs": [
    {
     "data": {
      "text/plain": [
       "'It’s OK to have a custom Exception subclass that only pass-es - your exception doesn’t need to do anything fancy to be useful. Having custom exceptions - tailored to your specific use cases and that you can raise and catch in specific circumstances - can make your code much more readable and robust, and reduce the amount of code you write later to try and figure out what exactly went wrong.\\nCustom exceptions provide you the flexibility to add attributes and methods that are not part of a standard Java exception.'"
      ]
     },
     "execution_count": 13,
     "metadata": {},
     "output_type": "execute_result"
    }
   ],
   "source": [
    "#Q5. What are custom Exceptions in python ? why do we need custom exception ? explain with an example.\n",
    "'''It’s OK to have a custom Exception subclass that only pass-es - your exception doesn’t need to do anything fancy to be useful. Having custom exceptions - tailored to your specific use cases and that you can raise and catch in specific circumstances - can make your code much more readable and robust, and reduce the amount of code you write later to try and figure out what exactly went wrong.\n",
    "Custom exceptions provide you the flexibility to add attributes and methods that are not part of a standard Java exception.'''"
   ]
  },
  {
   "cell_type": "code",
   "execution_count": 14,
   "id": "0bbbfc9b-a57d-4c7d-a468-595a9a0ddbf4",
   "metadata": {},
   "outputs": [
    {
     "name": "stdin",
     "output_type": "stream",
     "text": [
      "Enter a number:  12\n"
     ]
    },
    {
     "name": "stdout",
     "output_type": "stream",
     "text": [
      "Exception occurred: Invalid Age\n"
     ]
    }
   ],
   "source": [
    "#Q6. Create a custom exception class .  use this class to handle an exception.\n",
    "# define Python user-defined exceptions\n",
    "class InvalidAgeException(Exception):\n",
    "    \"Raised when the input value is less than 18\"\n",
    "    pass\n",
    "\n",
    "# you need to guess this number\n",
    "number = 18\n",
    "\n",
    "try:\n",
    "    input_num = int(input(\"Enter a number: \"))\n",
    "    if input_num < number:\n",
    "        raise InvalidAgeException\n",
    "    else:\n",
    "        print(\"Eligible to Vote\")\n",
    "        \n",
    "except InvalidAgeException:\n",
    "    print(\"Exception occurred: Invalid Age\")"
   ]
  },
  {
   "cell_type": "code",
   "execution_count": null,
   "id": "8df13b18-ecea-420d-9898-c217cfc45618",
   "metadata": {},
   "outputs": [],
   "source": []
  }
 ],
 "metadata": {
  "kernelspec": {
   "display_name": "Python 3 (ipykernel)",
   "language": "python",
   "name": "python3"
  },
  "language_info": {
   "codemirror_mode": {
    "name": "ipython",
    "version": 3
   },
   "file_extension": ".py",
   "mimetype": "text/x-python",
   "name": "python",
   "nbconvert_exporter": "python",
   "pygments_lexer": "ipython3",
   "version": "3.10.12"
  }
 },
 "nbformat": 4,
 "nbformat_minor": 5
}
